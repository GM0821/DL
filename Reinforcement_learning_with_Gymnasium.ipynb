{
  "nbformat": 4,
  "nbformat_minor": 0,
  "metadata": {
    "colab": {
      "provenance": [],
      "authorship_tag": "ABX9TyOQ+kRhdZ4ntvSeK3JUFpjK",
      "include_colab_link": true
    },
    "kernelspec": {
      "name": "python3",
      "display_name": "Python 3"
    },
    "language_info": {
      "name": "python"
    },
    "accelerator": "GPU",
    "gpuClass": "standard"
  },
  "cells": [
    {
      "cell_type": "markdown",
      "metadata": {
        "id": "view-in-github",
        "colab_type": "text"
      },
      "source": [
        "<a href=\"https://colab.research.google.com/github/GM0821/DL/blob/main/Reinforcement_learning_with_Gymnasium.ipynb\" target=\"_parent\"><img src=\"https://colab.research.google.com/assets/colab-badge.svg\" alt=\"Open In Colab\"/></a>"
      ]
    },
    {
      "cell_type": "code",
      "execution_count": 1,
      "metadata": {
        "colab": {
          "base_uri": "https://localhost:8080/"
        },
        "id": "5MiGG4x6QT-z",
        "outputId": "2a9f8eb4-1212-4d31-ea14-3c79d2de2b11"
      },
      "outputs": [
        {
          "output_type": "stream",
          "name": "stdout",
          "text": [
            "Looking in indexes: https://pypi.org/simple, https://us-python.pkg.dev/colab-wheels/public/simple/\n",
            "Requirement already satisfied: matplotlib in /usr/local/lib/python3.9/dist-packages (3.7.1)\n",
            "Requirement already satisfied: numpy in /usr/local/lib/python3.9/dist-packages (1.22.4)\n",
            "Requirement already satisfied: seaborn in /usr/local/lib/python3.9/dist-packages (0.12.2)\n",
            "Requirement already satisfied: tqdm in /usr/local/lib/python3.9/dist-packages (4.65.0)\n",
            "Collecting gymnasium==0.27.0\n",
            "  Downloading gymnasium-0.27.0-py3-none-any.whl (879 kB)\n",
            "\u001b[2K     \u001b[90m━━━━━━━━━━━━━━━━━━━━━━━━━━━━━━━━━━━━━━\u001b[0m \u001b[32m879.1/879.1 KB\u001b[0m \u001b[31m13.3 MB/s\u001b[0m eta \u001b[36m0:00:00\u001b[0m\n",
            "\u001b[?25hRequirement already satisfied: importlib-metadata>=4.8.0 in /usr/local/lib/python3.9/dist-packages (from gymnasium==0.27.0) (6.1.0)\n",
            "Requirement already satisfied: cloudpickle>=1.2.0 in /usr/local/lib/python3.9/dist-packages (from gymnasium==0.27.0) (2.2.1)\n",
            "Requirement already satisfied: typing-extensions>=4.3.0 in /usr/local/lib/python3.9/dist-packages (from gymnasium==0.27.0) (4.5.0)\n",
            "Collecting jax-jumpy>=0.2.0\n",
            "  Downloading jax_jumpy-1.0.0-py3-none-any.whl (20 kB)\n",
            "Collecting shimmy<1.0,>=0.1.0\n",
            "  Downloading Shimmy-0.2.1-py3-none-any.whl (25 kB)\n",
            "Collecting gymnasium-notices>=0.0.1\n",
            "  Downloading gymnasium_notices-0.0.1-py3-none-any.whl (2.8 kB)\n",
            "Requirement already satisfied: cycler>=0.10 in /usr/local/lib/python3.9/dist-packages (from matplotlib) (0.11.0)\n",
            "Requirement already satisfied: packaging>=20.0 in /usr/local/lib/python3.9/dist-packages (from matplotlib) (23.0)\n",
            "Requirement already satisfied: python-dateutil>=2.7 in /usr/local/lib/python3.9/dist-packages (from matplotlib) (2.8.2)\n",
            "Requirement already satisfied: importlib-resources>=3.2.0 in /usr/local/lib/python3.9/dist-packages (from matplotlib) (5.12.0)\n",
            "Requirement already satisfied: fonttools>=4.22.0 in /usr/local/lib/python3.9/dist-packages (from matplotlib) (4.39.2)\n",
            "Requirement already satisfied: contourpy>=1.0.1 in /usr/local/lib/python3.9/dist-packages (from matplotlib) (1.0.7)\n",
            "Requirement already satisfied: kiwisolver>=1.0.1 in /usr/local/lib/python3.9/dist-packages (from matplotlib) (1.4.4)\n",
            "Requirement already satisfied: pillow>=6.2.0 in /usr/local/lib/python3.9/dist-packages (from matplotlib) (8.4.0)\n",
            "Requirement already satisfied: pyparsing>=2.3.1 in /usr/local/lib/python3.9/dist-packages (from matplotlib) (3.0.9)\n",
            "Requirement already satisfied: pandas>=0.25 in /usr/local/lib/python3.9/dist-packages (from seaborn) (1.4.4)\n",
            "Requirement already satisfied: zipp>=0.5 in /usr/local/lib/python3.9/dist-packages (from importlib-metadata>=4.8.0->gymnasium==0.27.0) (3.15.0)\n",
            "Requirement already satisfied: pytz>=2020.1 in /usr/local/lib/python3.9/dist-packages (from pandas>=0.25->seaborn) (2022.7.1)\n",
            "Requirement already satisfied: six>=1.5 in /usr/local/lib/python3.9/dist-packages (from python-dateutil>=2.7->matplotlib) (1.16.0)\n",
            "Installing collected packages: gymnasium-notices, jax-jumpy, shimmy, gymnasium\n",
            "Successfully installed gymnasium-0.27.0 gymnasium-notices-0.0.1 jax-jumpy-1.0.0 shimmy-0.2.1\n"
          ]
        }
      ],
      "source": [
        "!pip install matplotlib numpy seaborn tqdm gymnasium==0.27.0\n",
        "%matplotlib inline"
      ]
    },
    {
      "cell_type": "code",
      "source": [
        "from __future__ import annotations\n",
        "\n",
        "from collections import defaultdict\n",
        "\n",
        "import matplotlib.pyplot as plt\n",
        "from matplotlib.patches import Patch\n",
        "import numpy as np\n",
        "import seaborn as sns\n",
        "\n",
        "from tqdm import tqdm\n",
        "import gymnasium as gym"
      ],
      "metadata": {
        "id": "LJrwVRWWQ-CI"
      },
      "execution_count": 3,
      "outputs": []
    },
    {
      "cell_type": "code",
      "source": [
        "env = gym.make('Blackjack-v1',sab=True,render_mode=\"rgb_array\")"
      ],
      "metadata": {
        "id": "0icos2ZSSARC"
      },
      "execution_count": 5,
      "outputs": []
    },
    {
      "cell_type": "markdown",
      "source": [
        "#Observing the environment"
      ],
      "metadata": {
        "id": "nK0tA4hQSksx"
      }
    },
    {
      "cell_type": "code",
      "source": [
        "# reset the environment to get the first observation\n",
        "done = False\n",
        "observation, info = env.reset()\n",
        "\n",
        "# observation = (16, 9, False)"
      ],
      "metadata": {
        "id": "zpAZmNoDSqJY"
      },
      "execution_count": 6,
      "outputs": []
    },
    {
      "cell_type": "markdown",
      "source": [
        "# Note that our observation is a tuple consisting of 3 values:\n",
        "\n",
        "# 1. The players current sum\n",
        "# 2. Values of dealers face-up card\n",
        "# 3. Boolean wether the player holds a usable ace (it is usable if it counts as 11 without busting)"
      ],
      "metadata": {
        "id": "V54ID_RfTVhp"
      }
    },
    {
      "cell_type": "code",
      "source": [
        "#sample a random action from all valid actions\n",
        "action = env.action_space.sample()\n",
        "#action = 1\n",
        "\n",
        "#execute the action in out environment and receive info after taking the step\n",
        "observation, reward, terminated, truncated, info = env.step(action)\n",
        "\n",
        "#observation=(24,10,False)\n",
        "#reward=-1.0\n",
        "#terminated=True\n",
        "#truncated=False\n",
        "#info={}"
      ],
      "metadata": {
        "id": "gDhQbW6sh2Su"
      },
      "execution_count": 7,
      "outputs": []
    },
    {
      "cell_type": "markdown",
      "source": [
        "#if ternimated=true we should stop the current episode and begin a new one using env.reset()"
      ],
      "metadata": {
        "id": "RR_FncT8rff2"
      }
    },
    {
      "cell_type": "code",
      "source": [
        "class BlackjackAgent:\n",
        "    def __init__(\n",
        "        self,\n",
        "        learning_rate: float,\n",
        "        initial_epsilon: float,\n",
        "        epsilon_decay: float,\n",
        "        final_epsilon: float,\n",
        "        discount_factor: float = 0.95,\n",
        "    ):\n",
        "        \"\"\"Initialize a Reinforcement Learning agent with an empty dictionary\n",
        "        of state-action values (q_values), a learning rate and an epsilon.\n",
        "\n",
        "        Args:\n",
        "            learning_rate: The learning rate\n",
        "            initial_epsilon: The initial epsilon value\n",
        "            epsilon_decay: The decay for epsilon\n",
        "            final_epsilon: The final epsilon value\n",
        "            discount_factor: The discount factor for computing the Q-value\n",
        "        \"\"\"\n",
        "        self.q_values = defaultdict(lambda: np.zeros(env.action_space.n))\n",
        "\n",
        "        self.lr = learning_rate\n",
        "        self.discount_factor = discount_factor\n",
        "\n",
        "        self.epsilon = initial_epsilon\n",
        "        self.epsilon_decay = epsilon_decay\n",
        "        self.final_epsilon = final_epsilon\n",
        "\n",
        "        self.training_error = []\n",
        "\n",
        "    def get_action(self, obs: tuple[int, int, bool]) -> int:\n",
        "        \"\"\"\n",
        "        Returns the best action with probability (1 - epsilon)\n",
        "        otherwise a random action with probability epsilon to ensure exploration.\n",
        "        \"\"\"\n",
        "        # with probability epsilon return a random action to explore the environment\n",
        "        if np.random.random() < self.epsilon:\n",
        "            return env.action_space.sample()\n",
        "\n",
        "        # with probability (1 - epsilon) act greedily (exploit)\n",
        "        else:\n",
        "            return int(np.argmax(self.q_values[obs]))\n",
        "\n",
        "    def update(\n",
        "        self,\n",
        "        obs: tuple[int, int, bool],\n",
        "        action: int,\n",
        "        reward: float,\n",
        "        terminated: bool,\n",
        "        next_obs: tuple[int, int, bool],\n",
        "    ):\n",
        "        \"\"\"Updates the Q-value of an action.\"\"\"\n",
        "        future_q_value = (not terminated) * np.max(self.q_values[next_obs])\n",
        "        temporal_difference = (\n",
        "            reward + self.discount_factor * future_q_value - self.q_values[obs][action]\n",
        "        )\n",
        "\n",
        "        self.q_values[obs][action] = (\n",
        "            self.q_values[obs][action] + self.lr * temporal_difference\n",
        "        )\n",
        "        self.training_error.append(temporal_difference)\n",
        "\n",
        "    def decay_epsilon(self):\n",
        "        self.epsilon = max(self.final_epsilon, self.epsilon - epsilon_decay)"
      ],
      "metadata": {
        "id": "EXNnChykr6DU"
      },
      "execution_count": 9,
      "outputs": []
    },
    {
      "cell_type": "markdown",
      "source": [
        "Q-value function is used to estimate the optimal action to take in each state. It is the one that maximized the long-term reward and is given by"
      ],
      "metadata": {
        "id": "xyeSUrMTz1_n"
      }
    },
    {
      "cell_type": "code",
      "source": [
        "# hyperparameters\n",
        "learning_rate = 0.01\n",
        "n_episodes = 1000\n",
        "start_epsilon = 1.0\n",
        "epsilon_decay = start_epsilon / (n_episodes / 2)  # reduce the exploration over time\n",
        "final_epsilon = 0.1\n",
        "\n",
        "agent = BlackjackAgent(\n",
        "    learning_rate=learning_rate,\n",
        "    initial_epsilon=start_epsilon,\n",
        "    epsilon_decay=epsilon_decay,\n",
        "    final_epsilon=final_epsilon,\n",
        ")"
      ],
      "metadata": {
        "id": "_ow1ZK89zzE7"
      },
      "execution_count": 11,
      "outputs": []
    },
    {
      "cell_type": "code",
      "source": [
        "from IPython.display import clear_output\n",
        "env = gym.wrappers.RecordEpisodeStatistics(env, deque_size=n_episodes)\n",
        "for episode in tqdm(range(n_episodes)):\n",
        "    obs, info = env.reset()\n",
        "    done = False\n",
        "    clear_output()\n",
        "\n",
        "    # play one episode\n",
        "    while not done:\n",
        "        action = agent.get_action(obs)\n",
        "        next_obs, reward, terminated, truncated, info = env.step(action)\n",
        "\n",
        "        # update the agent\n",
        "        agent.update(obs, action, reward, terminated, next_obs)\n",
        "        frame = env.render()\n",
        "        plt.imshow(frame)\n",
        "        plt.show()\n",
        "        # update if the environment is done and the current obs\n",
        "        done = terminated or truncated\n",
        "        obs = next_obs\n",
        "\n",
        "    agent.decay_epsilon()"
      ],
      "metadata": {
        "colab": {
          "base_uri": "https://localhost:8080/",
          "height": 286
        },
        "id": "SDYz1b9dzp8O",
        "outputId": "3cc79979-fded-4de2-d5e8-18a913e7de14"
      },
      "execution_count": 13,
      "outputs": [
        {
          "output_type": "display_data",
          "data": {
            "text/plain": [
              "<Figure size 432x288 with 1 Axes>"
            ],
            "image/png": "[encoded data removed]"
          },
          "metadata": {
            "needs_background": "light"
          }
        },
        {
          "output_type": "stream",
          "name": "stderr",
          "text": [
            "100%|██████████| 1000/1000 [04:37<00:00,  3.60it/s]\n"
          ]
        }
      ]
    },
    {
      "cell_type": "code",
      "source": [
        "rolling_length = 500\n",
        "fig, axs = plt.subplots(ncols=3, figsize=(12, 5))\n",
        "axs[0].set_title(\"Episode rewards\")\n",
        "reward_moving_average = (\n",
        "    np.convolve(\n",
        "        np.array(env.return_queue).flatten(), np.ones(rolling_length), mode=\"valid\"\n",
        "    )\n",
        "    / rolling_length\n",
        ")\n",
        "axs[0].plot(range(len(reward_moving_average)), reward_moving_average)\n",
        "axs[1].set_title(\"Episode lengths\")\n",
        "length_moving_average = (\n",
        "    np.convolve(\n",
        "        np.array(env.length_queue).flatten(), np.ones(rolling_length), mode=\"same\"\n",
        "    )\n",
        "    / rolling_length\n",
        ")\n",
        "axs[1].plot(range(len(length_moving_average)), length_moving_average)\n",
        "axs[2].set_title(\"Training Error\")\n",
        "training_error_moving_average = (\n",
        "    np.convolve(np.array(agent.training_error), np.ones(rolling_length), mode=\"same\")\n",
        "    / rolling_length\n",
        ")\n",
        "axs[2].plot(range(len(training_error_moving_average)), training_error_moving_average)\n",
        "plt.tight_layout()\n",
        "plt.show()"
      ],
      "metadata": {
        "colab": {
          "base_uri": "https://localhost:8080/",
          "height": 369
        },
        "id": "z2r1E2jMxHMO",
        "outputId": "22f8e75e-8d59-422d-f35d-0f327a823311"
      },
      "execution_count": 16,
      "outputs": [
        {
          "output_type": "display_data",
          "data": {
            "text/plain": [
              "<Figure size 864x360 with 3 Axes>"
            ],
            "image/png": "[encoded data removed]"
          },
          "metadata": {
            "needs_background": "light"
          }
        }
      ]
    },
    {
      "cell_type": "markdown",
      "source": [
        "#Next Environment: Cartpole"
      ],
      "metadata": {
        "id": "wEzVYhCpO3Ya"
      }
    },
    {
      "cell_type": "code",
      "source": [
        "!pip install gymnasium[classic_control] collection"
      ],
      "metadata": {
        "colab": {
          "base_uri": "https://localhost:8080/"
        },
        "id": "a-Wt0kOBOosg",
        "outputId": "72a7a6b4-1a50-4c42-daff-3cb11860405a"
      },
      "execution_count": 16,
      "outputs": [
        {
          "output_type": "stream",
          "name": "stdout",
          "text": [
            "Looking in indexes: https://pypi.org/simple, https://us-python.pkg.dev/colab-wheels/public/simple/\n",
            "Requirement already satisfied: gymnasium[classic_control] in /usr/local/lib/python3.9/dist-packages (0.28.1)\n",
            "Collecting collection\n",
            "  Downloading collection-0.1.6.tar.gz (5.0 kB)\n",
            "  Preparing metadata (setup.py) ... \u001b[?25l\u001b[?25hdone\n",
            "Requirement already satisfied: numpy>=1.21.0 in /usr/local/lib/python3.9/dist-packages (from gymnasium[classic_control]) (1.22.4)\n",
            "Requirement already satisfied: typing-extensions>=4.3.0 in /usr/local/lib/python3.9/dist-packages (from gymnasium[classic_control]) (4.5.0)\n",
            "Requirement already satisfied: importlib-metadata>=4.8.0 in /usr/local/lib/python3.9/dist-packages (from gymnasium[classic_control]) (6.1.0)\n",
            "Requirement already satisfied: jax-jumpy>=1.0.0 in /usr/local/lib/python3.9/dist-packages (from gymnasium[classic_control]) (1.0.0)\n",
            "Requirement already satisfied: farama-notifications>=0.0.1 in /usr/local/lib/python3.9/dist-packages (from gymnasium[classic_control]) (0.0.4)\n",
            "Requirement already satisfied: cloudpickle>=1.2.0 in /usr/local/lib/python3.9/dist-packages (from gymnasium[classic_control]) (2.2.1)\n",
            "Requirement already satisfied: pygame==2.1.3 in /usr/local/lib/python3.9/dist-packages (from gymnasium[classic_control]) (2.1.3)\n",
            "Requirement already satisfied: zipp>=0.5 in /usr/local/lib/python3.9/dist-packages (from importlib-metadata>=4.8.0->gymnasium[classic_control]) (3.15.0)\n",
            "Building wheels for collected packages: collection\n",
            "  Building wheel for collection (setup.py) ... \u001b[?25l\u001b[?25hdone\n",
            "  Created wheel for collection: filename=collection-0.1.6-py3-none-any.whl size=5116 sha256=80ecae6054e19637d739f4a1bfa6f92364821086132c30ee33d0996aa1c76e39\n",
            "  Stored in directory: /root/.cache/pip/wheels/b8/eb/72/804383af94abbb9ac1893ace85e5620780f0819144486a8bc1\n",
            "Successfully built collection\n",
            "Installing collected packages: collection\n",
            "Successfully installed collection-0.1.6\n"
          ]
        }
      ]
    },
    {
      "cell_type": "code",
      "source": [
        "import gymnasium as gym\n",
        "import math\n",
        "import random\n",
        "import matplotlib\n",
        "import matplotlib.pyplot as plt\n",
        "from collections import namedtuple,deque\n",
        "from itertools import count\n",
        "\n",
        "import torch\n",
        "import torch.nn as nn\n",
        "import torch.optim as optim\n",
        "import torch.nn.functional as F\n",
        "\n",
        "env=gym.make(\"CartPole-v1\",render_mode=\"rgb_array\")\n",
        "\n",
        "is_ipython = 'inline' in matplotlib.get_backend()\n",
        "if is_ipython:\n",
        "  from IPython import display\n",
        "\n",
        "plt.ion()\n",
        "\n",
        "device = torch.device(\"cuda\" if torch.cuda.is_available() else \"cpu\")\n"
      ],
      "metadata": {
        "id": "uQiXauoDOzta"
      },
      "execution_count": 17,
      "outputs": []
    },
    {
      "cell_type": "code",
      "source": [
        "Transition = namedtuple('Transition',('state','action','next_state',\n",
        "                                      'reward'))\n",
        "\n",
        "class ReplayMemory(object):\n",
        "\n",
        "  def __init__(self,capacity):\n",
        "    self.memory = deque([],maxlen=capacity)\n",
        "\n",
        "  def push(self,*args):\n",
        "    self.memory.append(Transition(*args))\n",
        "    \"\"\"Save a transition\"\"\"\n",
        "  \n",
        "  def sample(self,batch_size):\n",
        "    return random.sample(self.memory,batch_size)\n",
        "\n",
        "  def __len__(self):\n",
        "    return len(self.memory)    "
      ],
      "metadata": {
        "id": "MvP59VbbgWXG"
      },
      "execution_count": 18,
      "outputs": []
    },
    {
      "cell_type": "code",
      "source": [
        "class DQN(nn.Module):\n",
        "\n",
        "  #multi-layer perceptron with three layers\n",
        "\n",
        "  #n_observations is input(state of environment) to the network \n",
        "\n",
        "  #n_actions  - number of possible action in the environment\n",
        "  def __init__(self,n_observations,n_actions):\n",
        "    super(DQN,self).__init__()\n",
        "    self.layer1 = nn.Linear(n_observations,128)\n",
        "    self.layer2 = nn.Linear(128,128)\n",
        "    self.layer3 = nn.Linear(128,n_actions)\n",
        "\n",
        "  #take and pass to 3 layer of the Neural Network\n",
        "  \n",
        "  def forward(self,x):\n",
        "    x=F.relu(self.layer1(x))  \n",
        "    x=F.relu(self.layer2(x)) \n",
        "    return self.layer3(x) "
      ],
      "metadata": {
        "id": "rib_r7mimKia"
      },
      "execution_count": 19,
      "outputs": []
    },
    {
      "cell_type": "code",
      "source": [
        "#number of transitions samples from the replay buffer\n",
        "BATCH_SIZE = 128\n",
        "# GAMMAis the discount factor\n",
        "GAMMA = 0.99\n",
        "EPS_START = 0.9 # it is  the starting value of epsilon\n",
        "EPS_END = 0.05 # it is  the final value of epsilon\n",
        "#EPS_DECAY controls the rate of exponential decay of epsilon,\n",
        "#higher means slower decay \n",
        "EPS_DECAY = 1000  \n",
        "TAU = 0.005 #Update rate of the target network\n",
        "LR = 1e-4 #Learning rate of AdamW optimizer"
      ],
      "metadata": {
        "id": "BiVwjdM8uIYb"
      },
      "execution_count": 20,
      "outputs": []
    },
    {
      "cell_type": "code",
      "source": [
        "#Get number of actions from gym action space\n",
        "n_actions = env.action_space.n\n",
        "\n",
        "#Get the number of state observaation\n",
        "state,info = env.reset()\n",
        "\n",
        "#number of features in the state\n",
        "n_observations = len(state)\n",
        "\n",
        "#target net is initialized with same weight as `policy_net`\n",
        "policy_net= DQN(n_observations,n_actions).to(device)\n",
        "target_net= DQN(n_observations,n_actions).to(device)\n",
        "target_net.load_state_dict(policy_net.state_dict())\n",
        "\n",
        "#optimizer - AdamW used to optimize the weights\n",
        "optimizer = optim.AdamW(policy_net.parameters(),lr=LR ,amsgrad = True)\n",
        "\n",
        "#it will store the agent's experiences , which will be used for training\n",
        "\n",
        "memory = ReplayMemory(10000)\n",
        "\n",
        "#keep track of number steps taken by the agent\n",
        "steps_done = 0\n",
        "\n",
        "#input - current state and return an action\n",
        "def select_action(state):\n",
        "  global steps_done\n",
        "  sample = random.random()\n",
        "  eps_threshold = EPS_END + (EPS_START- EPS_END) * \\\n",
        "            math.exp(-1. * steps_done / EPS_DECAY)\n",
        "  steps_done +=1\n",
        "  if sample > eps_threshold:\n",
        "\n",
        "    with torch.no_grad():\n",
        "        #t.max(1) will return the largest column value of each row\n",
        "        #second column on max result is index of where max element\n",
        "        #was found , so we pick action with the larger expected reward\n",
        "        return policy_net(state).max(1)[1].view(1,1)\n",
        "  else:\n",
        "        return torch.tensor([[env.action_space.sample()]], device=device, dtype=torch.long)\n",
        "    \n",
        "\n",
        "\n",
        "#It is used to keep track of the duration of each episode\n",
        "episode_durations = []\n",
        "\n",
        "#plot_durations  - visualize the training progress of the DQN\n",
        "def plot_durations(show_result=False):\n",
        "  plt.figure(1)\n",
        "  durations_t = torch.tensor(episode_durations,dtype=torch.float)\n",
        "  if show_result:\n",
        "    plt.title('Result')\n",
        "  else:\n",
        "    plt.clf()\n",
        "    plt.title('Training')\n",
        "  plt.xlabel('Episode')  \n",
        "  plt.ylabel('Duration')\n",
        "  plt.plot(durations_t.numpy())\n",
        "\n",
        "  #shows the 100-episode moving average of the duration\n",
        "  if(len(durations_t) >= 100):\n",
        "    means = durations_t.unfold(0,1000,1).mean(1).view(-1)\n",
        "    means = torch.cat((torch.zeroes(99),means))\n",
        "    plt.plot(means.numpy())\n",
        "\n",
        "  plt.pause(0.001) #pause so that plots are updated\n",
        "  if is_ipython:\n",
        "    if not show_result:\n",
        "      display.display(plt.gcf())\n",
        "      display.clear_output(wait=True)\n",
        "    else:\n",
        "      display.display(plt.gcf())\n",
        "\n"
      ],
      "metadata": {
        "id": "NKmUPSybz7UO"
      },
      "execution_count": 21,
      "outputs": []
    },
    {
      "cell_type": "code",
      "source": [
        "def optimize_model():\n",
        "  #check if we have enough samplke for a mini bacth\n",
        "  if len(memory) < BATCH_SIZE:\n",
        "    return\n",
        "    \n",
        "  #extract a mini-batch of transition(state,action,reward,next_state)\n",
        "  # from the reply memory\n",
        "\n",
        "  transition = memory.sample(BATCH_SIZE)\n",
        "  \n",
        "  #converts batch-array of Transitions to Transition of batch=arrays\n",
        "  batch = Transition(*zip(*transition))\n",
        "\n",
        "  #compute a mask of non-final states and concatente the \n",
        "  #batch elements\n",
        "  non_final_mask = torch.tensor(tuple(map(lambda s: s is not None, batch.next_state)),device=device,dtype=torch.bool)\n",
        "  \n",
        "  non_final_next_states = torch.cat([s for s in batch.next_state if s is not None])\n",
        "  state_batch = torch.cat(batch.state)\n",
        "  action_batch = torch.cat(batch.action)\n",
        "  reward_batch = torch.cat(batch.reward)\n",
        "\n",
        "\n",
        "  state_action_values = policy_net(state_batch).gather(1,action_batch)\n",
        "\n",
        "  next_state_values = torch.zeros(BATCH_SIZE,device=device)\n",
        "  \n",
        "  with torch.no_grad():\n",
        "    next_state_values[non_final_mask] = target_net(non_final_next_states).max(1)[0]\n",
        "\n",
        "  #expect q-value for each transition using the target network\n",
        "  #\n",
        "  expected_state_action_values = (next_state_values * GAMMA) + reward_batch\n",
        "\n",
        "\n",
        "  #Compute Huber loss\n",
        "  #smooth approximation of the mean square error loss , less\n",
        "  # sensitive\n",
        "  \n",
        "  criterion = nn.SmoothL1Loss()\n",
        "  loss = criterion(state_action_values ,\n",
        "                   expected_state_action_values.unsqueeze(1))\n",
        "\n",
        "  #Optimize the model\n",
        "  optimizer.zero_grad()\n",
        "  loss.backward()\n",
        "\n",
        "  #In-place gradient clipping\n",
        "  #maximum value = 100 to prevent exploding gradient problem\n",
        "  torch.nn.utils.clip_grad_value_(policy_net.parameters(),100)\n",
        "  optimizer.step()"
      ],
      "metadata": {
        "id": "GMxCYQ7XoCxv"
      },
      "execution_count": 22,
      "outputs": []
    },
    {
      "cell_type": "code",
      "source": [
        "if torch.cuda.is_available():\n",
        "  num_episodes = 600\n",
        "else:\n",
        "  num_episodes = 50\n",
        "\n",
        "#iterate for episodes\n",
        "for i_episode in range(num_episodes):\n",
        "  #intialize the environment and get it's state\n",
        "  state,info = env.reset()\n",
        "  state = torch.tensor(state,dtype=torch.float32,\n",
        "                       device=device).unsqueeze(0)\n",
        "  for t in count():\n",
        "    action = select_action(state)\n",
        "    observation , reward , terminated , truncated ,_ = env.step(action.item())\n",
        "    reward = torch.tensor([reward],device = device)\n",
        "\n",
        "    # frame = env.render()\n",
        "    # plt.imshow(frame)\n",
        "    # plt.show()\n",
        "\n",
        "    done  = terminated or truncated\n",
        "\n",
        "    if  terminated:\n",
        "      next_state = None\n",
        "    else:\n",
        "      next_state = torch.tensor(observation,dtype=torch.float32,device=device).unsqueeze(0)  \n",
        "\n",
        "    #store the transition in memory\n",
        "    memory.push(state,action,next_state,reward)\n",
        "\n",
        "    #move to the next state\n",
        "    state = next_state\n",
        "\n",
        "    #optimize\n",
        "    optimize_model()\n",
        "\n",
        "  #soft update the target network's wright by bledning policy network's weights\n",
        "  # and target network's weights using a hyperparameter called TAU\n",
        "    target_net_state_dict  = target_net.state_dict()\n",
        "    policy_net_state_dict  = target_net.state_dict()\n",
        "\n",
        "    for key in policy_net_state_dict:\n",
        "      target_net_state_dict[key] = policy_net_state_dict[key]*TAU + target_net_state_dict[key]*(1 - TAU)\n",
        "\n",
        "    if done:\n",
        "      episode_durations.append(t + 1)\n",
        "      plot_durations()\n",
        "      break\n",
        "\n",
        "print('Complete')\n",
        "plot_duration(show_result=True)\n",
        "plt.ioff()\n",
        "plt.show()       "
      ],
      "metadata": {
        "colab": {
          "base_uri": "https://localhost:8080/",
          "height": 635
        },
        "id": "rKPvZ6z3N2Ew",
        "outputId": "58d0a051-df8a-4404-821b-47b4a4a7392e"
      },
      "execution_count": 23,
      "outputs": [
        {
          "output_type": "error",
          "ename": "RuntimeError",
          "evalue": "ignored",
          "traceback": [
            "\u001b[0;31m---------------------------------------------------------------------------\u001b[0m",
            "\u001b[0;31mRuntimeError\u001b[0m                              Traceback (most recent call last)",
            "\u001b[0;32m<ipython-input-23-39e3e68d816f>\u001b[0m in \u001b[0;36m<module>\u001b[0;34m\u001b[0m\n\u001b[1;32m     45\u001b[0m     \u001b[0;32mif\u001b[0m \u001b[0mdone\u001b[0m\u001b[0;34m:\u001b[0m\u001b[0;34m\u001b[0m\u001b[0;34m\u001b[0m\u001b[0m\n\u001b[1;32m     46\u001b[0m       \u001b[0mepisode_durations\u001b[0m\u001b[0;34m.\u001b[0m\u001b[0mappend\u001b[0m\u001b[0;34m(\u001b[0m\u001b[0mt\u001b[0m \u001b[0;34m+\u001b[0m \u001b[0;36m1\u001b[0m\u001b[0;34m)\u001b[0m\u001b[0;34m\u001b[0m\u001b[0;34m\u001b[0m\u001b[0m\n\u001b[0;32m---> 47\u001b[0;31m       \u001b[0mplot_durations\u001b[0m\u001b[0;34m(\u001b[0m\u001b[0;34m)\u001b[0m\u001b[0;34m\u001b[0m\u001b[0;34m\u001b[0m\u001b[0m\n\u001b[0m\u001b[1;32m     48\u001b[0m       \u001b[0;32mbreak\u001b[0m\u001b[0;34m\u001b[0m\u001b[0;34m\u001b[0m\u001b[0m\n\u001b[1;32m     49\u001b[0m \u001b[0;34m\u001b[0m\u001b[0m\n",
            "\u001b[0;32m<ipython-input-21-0c6ab9a70b32>\u001b[0m in \u001b[0;36mplot_durations\u001b[0;34m(show_result)\u001b[0m\n\u001b[1;32m     60\u001b[0m   \u001b[0;31m#shows the 100-episode moving average of the duration\u001b[0m\u001b[0;34m\u001b[0m\u001b[0;34m\u001b[0m\u001b[0m\n\u001b[1;32m     61\u001b[0m   \u001b[0;32mif\u001b[0m\u001b[0;34m(\u001b[0m\u001b[0mlen\u001b[0m\u001b[0;34m(\u001b[0m\u001b[0mdurations_t\u001b[0m\u001b[0;34m)\u001b[0m \u001b[0;34m>=\u001b[0m \u001b[0;36m100\u001b[0m\u001b[0;34m)\u001b[0m\u001b[0;34m:\u001b[0m\u001b[0;34m\u001b[0m\u001b[0;34m\u001b[0m\u001b[0m\n\u001b[0;32m---> 62\u001b[0;31m     \u001b[0mmeans\u001b[0m \u001b[0;34m=\u001b[0m \u001b[0mdurations_t\u001b[0m\u001b[0;34m.\u001b[0m\u001b[0munfold\u001b[0m\u001b[0;34m(\u001b[0m\u001b[0;36m0\u001b[0m\u001b[0;34m,\u001b[0m\u001b[0;36m1000\u001b[0m\u001b[0;34m,\u001b[0m\u001b[0;36m1\u001b[0m\u001b[0;34m)\u001b[0m\u001b[0;34m.\u001b[0m\u001b[0mmean\u001b[0m\u001b[0;34m(\u001b[0m\u001b[0;36m1\u001b[0m\u001b[0;34m)\u001b[0m\u001b[0;34m.\u001b[0m\u001b[0mview\u001b[0m\u001b[0;34m(\u001b[0m\u001b[0;34m-\u001b[0m\u001b[0;36m1\u001b[0m\u001b[0;34m)\u001b[0m\u001b[0;34m\u001b[0m\u001b[0;34m\u001b[0m\u001b[0m\n\u001b[0m\u001b[1;32m     63\u001b[0m     \u001b[0mmeans\u001b[0m \u001b[0;34m=\u001b[0m \u001b[0mtorch\u001b[0m\u001b[0;34m.\u001b[0m\u001b[0mcat\u001b[0m\u001b[0;34m(\u001b[0m\u001b[0;34m(\u001b[0m\u001b[0mtorch\u001b[0m\u001b[0;34m.\u001b[0m\u001b[0mzeroes\u001b[0m\u001b[0;34m(\u001b[0m\u001b[0;36m99\u001b[0m\u001b[0;34m)\u001b[0m\u001b[0;34m,\u001b[0m\u001b[0mmeans\u001b[0m\u001b[0;34m)\u001b[0m\u001b[0;34m)\u001b[0m\u001b[0;34m\u001b[0m\u001b[0;34m\u001b[0m\u001b[0m\n\u001b[1;32m     64\u001b[0m     \u001b[0mplt\u001b[0m\u001b[0;34m.\u001b[0m\u001b[0mplot\u001b[0m\u001b[0;34m(\u001b[0m\u001b[0mmeans\u001b[0m\u001b[0;34m.\u001b[0m\u001b[0mnumpy\u001b[0m\u001b[0;34m(\u001b[0m\u001b[0;34m)\u001b[0m\u001b[0;34m)\u001b[0m\u001b[0;34m\u001b[0m\u001b[0;34m\u001b[0m\u001b[0m\n",
            "\u001b[0;31mRuntimeError\u001b[0m: maximum size for tensor at dimension 0 is 100 but size is 1000"
          ]
        },
        {
          "output_type": "display_data",
          "data": {
            "text/plain": [
              "<Figure size 432x288 with 1 Axes>"
            ],
            "image/png": "[encoded data removed]"
          },
          "metadata": {
            "needs_background": "light"
          }
        }
      ]
    }
  ]
}